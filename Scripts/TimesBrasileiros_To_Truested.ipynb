{
 "cells": [
  {
   "cell_type": "markdown",
   "id": "5607f6b9",
   "metadata": {},
   "source": [
    "# Cria as Tabelas *Jogadores*, *Times* e *Treinadores* a partir do JSON do Brasileirão.\n"
   ]
  },
  {
   "cell_type": "code",
   "execution_count": null,
   "id": "dcbc2de4",
   "metadata": {
    "vscode": {
     "languageId": "plaintext"
    }
   },
   "outputs": [],
   "source": [
    "from pyspark.sql import SparkSession\n",
    "from pyspark import SparkContext,SQLContext\n",
    "from pyspark.sql.functions import explode , col\n",
    "from pyspark.sql.functions import col\n",
    "spark = SparkSession.builder.master(\"local[*]\").appName(\"CreateTables\").getOrCreate()\n",
    "Tables = spark.read.option(\"multiline\",\"true\").json(\"../Raw/Times/TimesBrasileiros.json\")\n",
    "\n"
   ]
  },
  {
   "cell_type": "markdown",
   "id": "35fe0e97",
   "metadata": {},
   "source": [
    "# Cria a Tabela *Times*"
   ]
  },
  {
   "cell_type": "markdown",
   "id": "9cf437a3",
   "metadata": {},
   "source": [
    "df_flat = Tables.withColumn(\"teams_explode\",explode(col('teams')))\n",
    "\n",
    "df_times = df_flat.select(\n",
    "    col(\"teams_explode.id\").alias(\"id\"),\n",
    "    col(\"teams_explode.name\").alias(\"name\"),\n",
    "    col(\"teams_explode.shortName\").alias(\"shortName\"),\n",
    "    col(\"teams_explode.tla\").alias(\"tla\"),\n",
    "    col(\"teams_explode.crest\").alias(\"crest\"),\n",
    "    col(\"teams_explode.address\").alias(\"address\"),\n",
    "    col(\"teams_explode.website\").alias(\"website\"),\n",
    "    col(\"teams_explode.founded\").alias(\"founded\"),\n",
    "    col(\"teams_explode.clubColors\").alias(\"clubColors\"),\n",
    "    col(\"teams_explode.venue\").alias(\"venue\")\n",
    ")\n",
    "\n",
    "df_times.write.mode(\"overwrite\").parquet(\"../Truested/Times/times.parquet\")"
   ]
  },
  {
   "cell_type": "markdown",
   "id": "09ac3165",
   "metadata": {},
   "source": [
    "# Cria a Tabela *Treinadores*"
   ]
  },
  {
   "cell_type": "code",
   "execution_count": null,
   "id": "41f39cd9",
   "metadata": {
    "vscode": {
     "languageId": "plaintext"
    }
   },
   "outputs": [],
   "source": [
    "df_treinador = df_flat.select(\n",
    "    col(\"teams_explode.id\").alias(\"team_id\"),\n",
    "    col(\"teams_explode.coach.id\").alias(\"coach_id\"),\n",
    "    col(\"teams_explode.name\").alias(\"team_name\"),\n",
    "    col(\"teams_explode.coach.name\").alias(\"coach_name\"),\n",
    "    col(\"teams_explode.coach.dateOfBirth\").alias(\"coach_birth\"),\n",
    "    col(\"teams_explode.coach.nationality\").alias(\"coach_nationality\"),\n",
    "    col(\"teams_explode.coach.contract.start\").alias(\"coach_contract_start\"),\n",
    "    col(\"teams_explode.coach.contract.until\").alias(\"coach_contract_until\")\n",
    ")\n",
    "\n",
    "df_treinador.write.mode(\"overwrite\").option(\"header\", True).csv(\"../Truested/Treinador/\")\n"
   ]
  },
  {
   "cell_type": "markdown",
   "id": "101b1e14",
   "metadata": {},
   "source": [
    "# Cria a Tabela *Jogadores*"
   ]
  },
  {
   "cell_type": "code",
   "execution_count": null,
   "id": "c83d8582",
   "metadata": {
    "vscode": {
     "languageId": "plaintext"
    }
   },
   "outputs": [],
   "source": [
    "df_squad = df_flat.withColumn(\"squad_explode\", explode(col('teams_explode.squad')))\n",
    "\n",
    "df_players = df_squad.select(\n",
    "    col(\"squad_explode.id\").alias(\"player_id\"),\n",
    "    col(\"teams_explode.id\").alias(\"team_id\"),\n",
    "    col(\"teams_explode.name\").alias(\"team_name\"),\n",
    "    col(\"squad_explode.name\").alias(\"player_name\"),\n",
    "    col(\"squad_explode.dateOfBirth\").alias(\"player_birth\"),\n",
    "    col(\"squad_explode.nationality\").alias(\"player_nationality\"),\n",
    "    col(\"squad_explode.position\").alias(\"player_position\")\n",
    ")\n",
    "df_players.write.mode(\"overwrite\").option(\"header\", True).csv(\"../Truested/Jogadores/\")\n",
    "\n"
   ]
  }
 ],
 "metadata": {
  "language_info": {
   "name": "python"
  }
 },
 "nbformat": 4,
 "nbformat_minor": 5
}
